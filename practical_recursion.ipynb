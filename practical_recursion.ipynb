{
 "cells": [
  {
   "cell_type": "markdown",
   "id": "8f2c6e49",
   "metadata": {},
   "source": [
    "# Recursive Programming in Python: A Complete Guide\n",
    "\n",
    "## 📚 Overview\n",
    "\n",
    "Welcome to this comprehensive notebook on **recursive programming**! This project explores the fundamentals of recursion through 10 practical examples, comparing recursive approaches with their iterative counterparts.\n",
    "\n",
    "### What You'll Learn\n",
    "\n",
    "By working through this notebook, you will:\n",
    "\n",
    "- ✅ Understand the **core principles** of recursive programming\n",
    "- ✅ Identify **base cases** and **recursive cases** in different problems\n",
    "- ✅ Recognize common **recursive patterns** (linear, binary, deep recursion)\n",
    "- ✅ Compare **performance** between recursive and iterative solutions\n",
    "- ✅ Learn **when to use** recursion vs iteration\n",
    "- ✅ Apply recursion to solve **real-world problems**\n",
    "\n",
    "---\n",
    "\n",
    "## 🗂️ Project Contents\n",
    "\n",
    "This notebook contains **10 case studies**, each demonstrating a different application of recursion:\n",
    "\n",
    "| Case | Topic | Difficulty | Key Concept |\n",
    "|------|-------|-----------|-------------|\n",
    "| **1** | Factorial | ⭐ Easy | Linear recursion basics |\n",
    "| **2** | Fibonacci Sequence | ⭐⭐ Medium | Binary recursion, exponential growth |\n",
    "| **3** | Sum of List | ⭐ Easy | Processing sequential data |\n",
    "| **4** | Power Function | ⭐ Easy | Mathematical recursion |\n",
    "| **5** | Reverse String | ⭐ Easy | String manipulation |\n",
    "| **6** | Countdown | ⭐ Easy | Visual recursion flow |\n",
    "| **7** | Palindrome Checker | ⭐⭐ Medium | Two-pointer recursion |\n",
    "| **8** | GCD (Euclidean Algorithm) | ⭐⭐ Medium | Classical algorithm |\n",
    "| **9** | Binary Search | ⭐⭐ Medium | Divide and conquer |\n",
    "| **10** | Nested List Sum | ⭐⭐⭐ Hard | Deep recursion with complex structures |\n",
    "\n",
    "---\n",
    "\n",
    "## 🎯 Learning Objectives\n",
    "\n",
    "### Core Concepts Covered\n",
    "\n",
    "1. **Recursion Fundamentals**\n",
    "   - What is recursion?\n",
    "   - Base cases vs recursive cases\n",
    "   - Call stack visualization\n",
    "   - Termination conditions\n",
    "\n",
    "2. **Recursive Patterns**\n",
    "   - Linear recursion (single recursive call)\n",
    "   - Binary recursion (multiple recursive calls)\n",
    "   - Deep recursion (nested structures)\n",
    "   - Tail recursion considerations\n",
    "\n",
    "3. **Performance Analysis**\n",
    "   - Time complexity comparison\n",
    "   - Space complexity (stack usage)\n",
    "   - When recursion is efficient\n",
    "   - When iteration is preferred\n",
    "\n",
    "4. **Best Practices**\n",
    "   - Writing clear base cases\n",
    "   - Avoiding stack overflow\n",
    "   - Debugging recursive functions\n",
    "   - Optimization techniques (memoization)\n",
    "\n",
    "---\n",
    "\n",
    "## 🛠️ Prerequisites\n",
    "\n",
    "- Basic Python programming knowledge\n",
    "- Understanding of functions and function calls\n",
    "- Familiarity with lists and data structures\n",
    "- Basic understanding of Big-O notation (helpful but not required)\n",
    "\n",
    "---\n",
    "\n",
    "## 📖 How to Use This Notebook\n",
    "\n",
    "1. **Read the theory** in each markdown cell to understand the concept\n",
    "2. **Study the code** in both recursive and iterative implementations\n",
    "3. **Run the cells** to see the output and compare results\n",
    "4. **Experiment** by modifying parameters and inputs\n",
    "5. **Complete the practice exercises** at the end to reinforce learning\n",
    "\n",
    "---\n",
    "\n",
    "## 🚀 Getting Started\n",
    "\n",
    "Let's begin by importing the necessary libraries and diving into our first case study!\n"
   ]
  },
  {
   "cell_type": "code",
   "execution_count": 1,
   "id": "2b32ca02",
   "metadata": {},
   "outputs": [],
   "source": [
    "# Import necessary libraries\n",
    "import time  # For performance comparison between recursive and iterative functions"
   ]
  },
  {
   "cell_type": "markdown",
   "id": "0f8184db",
   "metadata": {},
   "source": [
    "## Case 1: Factorial\n",
    "\n",
    "Classic introduction to recursion.\n",
    "\n",
    "The factorial of a non-negative integer n is the product of all positive integers less than or equal to n. It is denoted by n! and defined as:\n",
    "\n",
    "$$n! = 1 * 2 * 3 * 4 * ... * n$$\n"
   ]
  },
  {
   "cell_type": "markdown",
   "id": "c772ef46",
   "metadata": {},
   "source": [
    "### Recursive implementation"
   ]
  },
  {
   "cell_type": "code",
   "execution_count": 2,
   "id": "6c84ce8b",
   "metadata": {},
   "outputs": [
    {
     "data": {
      "text/plain": [
       "120"
      ]
     },
     "execution_count": 2,
     "metadata": {},
     "output_type": "execute_result"
    }
   ],
   "source": [
    "# recursive functions\n",
    "def factorial_recursive(n):\n",
    "    \"\"\"\n",
    "    Calculate factorial n using recursion.\n",
    "    n! = n * (n-1)!\n",
    "    Base case: 0! = 1\n",
    "\n",
    "    Parameters:\n",
    "    n (int): The number to calculate the factorial of.\n",
    "\n",
    "    Returns:\n",
    "    int: The factorial of n.\n",
    "    \"\"\"\n",
    "    if n == 0:  # base case\n",
    "        return 1  \n",
    "    return n * factorial_recursive(n - 1)\n",
    "\n",
    "factorial_recursive(5)"
   ]
  },
  {
   "cell_type": "code",
   "execution_count": 3,
   "id": "bc152beb",
   "metadata": {},
   "outputs": [
    {
     "data": {
      "text/plain": [
       "[1, 1, 2, 6, 24, 120, 720, 5040, 40320, 362880, 3628800, 39916800, 479001600]"
      ]
     },
     "execution_count": 3,
     "metadata": {},
     "output_type": "execute_result"
    }
   ],
   "source": [
    "# factorial of list of numbers using recursive function\n",
    "[factorial_recursive(n) for n in range(13)]  # calculate factorial of range from 0 to 12"
   ]
  },
  {
   "cell_type": "markdown",
   "id": "67f1370c",
   "metadata": {},
   "source": [
    "### Iterative implementation"
   ]
  },
  {
   "cell_type": "code",
   "execution_count": 4,
   "id": "b2db46e2",
   "metadata": {},
   "outputs": [
    {
     "data": {
      "text/plain": [
       "120"
      ]
     },
     "execution_count": 4,
     "metadata": {},
     "output_type": "execute_result"
    }
   ],
   "source": [
    "# iterative functions\n",
    "def factorial_iterative(n):\n",
    "    \"\"\"\n",
    "    Calculate factorial n using iteration (loop).\n",
    "    n! = n * (n-1) * (n-2) * ... * 1\n",
    "    Base case: 0! = 1\n",
    "\n",
    "    Parameters:\n",
    "    n (int): The number to calculate the factorial of.\n",
    "\n",
    "    Returns:\n",
    "    int: The factorial of n.\n",
    "    \"\"\"\n",
    "    result = 1\n",
    "    for i in range(1, n + 1):\n",
    "        result *= i\n",
    "    return result\n",
    "\n",
    "factorial_iterative(5)"
   ]
  },
  {
   "cell_type": "markdown",
   "id": "19146800",
   "metadata": {},
   "source": [
    "### Compare performance of recursive and iterative functions"
   ]
  },
  {
   "cell_type": "code",
   "execution_count": 5,
   "id": "35351310",
   "metadata": {},
   "outputs": [
    {
     "name": "stdout",
     "output_type": "stream",
     "text": [
      "Runtime comparison for calculating factorial of 500:\n",
      "Recursive factorial took: 0.0003139972686767578\n",
      "Iterative factorial took: 0.0008409023284912109\n"
     ]
    }
   ],
   "source": [
    "# Runtime comparison between iterative and recursive functions\n",
    "test_value = 500  # Keep recursion depth safely below Python's default recursion limit (~1000)\n",
    "print(f\"Runtime comparison for calculating factorial of {test_value}:\")\n",
    "\n",
    "# calculate the time taken by recursive function\n",
    "start = time.time()\n",
    "factorial_recursive(test_value)\n",
    "end = time.time()\n",
    "print(\"Recursive factorial took:\", end - start)\n",
    "\n",
    "# calculate the time taken by iterative function\n",
    "start = time.time()\n",
    "factorial_iterative(test_value)\n",
    "end = time.time()\n",
    "print(\"Iterative factorial took:\", end - start)\n"
   ]
  },
  {
   "cell_type": "code",
   "execution_count": 6,
   "id": "2a670bea",
   "metadata": {},
   "outputs": [
    {
     "name": "stdout",
     "output_type": "stream",
     "text": [
      "Runtime comparison for calculating a range of factorials (0 to 499):\n",
      "Recursive factorial took: 0.04466605186462402\n",
      "Iterative factorial took: 0.09621310234069824\n"
     ]
    }
   ],
   "source": [
    "# Runtime comparison between iterative and recursive functions for a list of numbers\n",
    "range_limit = 500  # Limit to avoid hitting Python's recursion depth with naive recursion\n",
    "print(f\"Runtime comparison for calculating a range of factorials (0 to {range_limit - 1}):\")\n",
    "\n",
    "# calculate the time taken by recursive function\n",
    "start = time.time()\n",
    "[factorial_recursive(n) for n in range(range_limit)]\n",
    "end = time.time()\n",
    "print(\"Recursive factorial took:\", end - start)\n",
    "\n",
    "# calculate the time taken by iterative function, list comprehension\n",
    "start = time.time()\n",
    "[factorial_iterative(n) for n in range(range_limit)]\n",
    "end = time.time()\n",
    "print(\"Iterative factorial took:\", end - start)\n"
   ]
  },
  {
   "cell_type": "markdown",
   "id": "3f5257ae",
   "metadata": {},
   "source": [
    "### Performance comparisons factorial iterative vs recursive\n",
    "\n",
    "Recursive functions can be less efficient than their iterative counterparts due to the overhead of multiple function calls and the risk of stack overflow for large inputs.\n",
    "\n",
    "| Implementation | Time Complexity | Space Complexity |\n",
    "|----------------|------------------|------------------|\n",
    "| Recursive      | O(n)             | O(n) (due to call stack) |\n",
    "| Iterative      | O(n)             | O(1)             |\n",
    "\n",
    "In general, for the factorial calculation:\n",
    "- The iterative implementation is more space-efficient.\n",
    "- The recursive implementation is more elegant and easier to read, but may not be suitable for large inputs due to stack overflow risks.\n"
   ]
  },
  {
   "cell_type": "markdown",
   "id": "e4b222a6",
   "metadata": {},
   "source": [
    "## Case 2: Fibonacci Sequence\n",
    "\n",
    "Shows the tree-like structure of recursive calls. \n",
    "\n",
    "Each call branches into two more calls, creating a tree of calls.\n",
    "\n",
    "The Fibonacci sequence is a series of numbers where each number is the sum of the two preceding ones, usually starting with 0 and 1. It is defined as:\n",
    "\n",
    "$$F_n = F_{n-1} + F_{n-2}$$"
   ]
  },
  {
   "cell_type": "markdown",
   "id": "a911da86",
   "metadata": {},
   "source": [
    "### Recursive implementation"
   ]
  },
  {
   "cell_type": "code",
   "execution_count": 7,
   "id": "74e24d5c",
   "metadata": {},
   "outputs": [
    {
     "data": {
      "text/plain": [
       "0"
      ]
     },
     "execution_count": 7,
     "metadata": {},
     "output_type": "execute_result"
    }
   ],
   "source": [
    "def fibonacci_recursive(n):\n",
    "    \"\"\"\n",
    "    Calculate the nth Fibonacci number using recursion.\n",
    "    Fibonacci sequence: F(n) = F(n-1) + F(n-2)\n",
    "    Base cases: F(0) = 0, F(1) = 1\n",
    "\n",
    "    Parameters:\n",
    "    n (int): The position in the Fibonacci sequence.\n",
    "    \n",
    "    Returns:\n",
    "    int: The nth Fibonacci number.\n",
    "    \"\"\"\n",
    "    if n <= 0:\n",
    "        return 0  # base case\n",
    "    elif n == 1:\n",
    "        return 1  # base case\n",
    "    return fibonacci_recursive(n-1) + fibonacci_recursive(n-2)\n",
    "\n",
    "fibonacci_recursive(-2)"
   ]
  },
  {
   "cell_type": "code",
   "execution_count": 8,
   "id": "5deedccc",
   "metadata": {},
   "outputs": [
    {
     "name": "stdout",
     "output_type": "stream",
     "text": [
      "[0, 1, 1, 2, 3, 5, 8, 13, 21, 34, 55]\n",
      "Fibonacci(0) = 0\n",
      "Fibonacci(1) = 1\n",
      "Fibonacci(2) = 1\n",
      "Fibonacci(3) = 2\n",
      "Fibonacci(4) = 3\n",
      "Fibonacci(5) = 5\n",
      "Fibonacci(6) = 8\n",
      "Fibonacci(7) = 13\n",
      "Fibonacci(8) = 21\n",
      "Fibonacci(9) = 34\n",
      "Fibonacci(10) = 55\n"
     ]
    }
   ],
   "source": [
    "# calculate Fibonacci numbers for a range of values using the recursive function\n",
    "fibonacci_recursive_results = [fibonacci_recursive(n) for n in range(11)]\n",
    "print(fibonacci_recursive_results)\n",
    "\n",
    "for n, result in enumerate(fibonacci_recursive_results):\n",
    "    print(\"Fibonacci(\" + str(n) + \") =\", result)"
   ]
  },
  {
   "cell_type": "markdown",
   "id": "e95092b3",
   "metadata": {},
   "source": [
    "## Case 3: Sum of list elements\n",
    "\n",
    "Shows the tree-like structure of recursive calls. \n",
    "\n",
    "Each call branches into two more calls, creating a tree of calls.\n",
    "\n",
    "The sum of a list of numbers can be defined recursively as:\n",
    "\n",
    "$$S_n = S_{n-1} + n$$"
   ]
  },
  {
   "cell_type": "markdown",
   "id": "4e70daad",
   "metadata": {},
   "source": [
    "### Recursive implementation"
   ]
  },
  {
   "cell_type": "code",
   "execution_count": 9,
   "id": "3eaf1550",
   "metadata": {},
   "outputs": [
    {
     "data": {
      "text/plain": [
       "15"
      ]
     },
     "execution_count": 9,
     "metadata": {},
     "output_type": "execute_result"
    }
   ],
   "source": [
    "def sum_list(l):\n",
    "    \"\"\"\n",
    "    Calculate the sum of a list using recursion.\n",
    "\n",
    "    Parameters:\n",
    "    l (list): A list of numbers to be summed.\n",
    "    \n",
    "    Returns:\n",
    "    int/float: The sum of the numbers in the list.\n",
    "    \"\"\"\n",
    "    if len(l) == 0:\n",
    "        return 0\n",
    "    return l[0] + sum_list(l[1:])\n",
    "\n",
    "sum_list([1, 2, 3, 4, 5])"
   ]
  },
  {
   "cell_type": "markdown",
   "id": "0fc0437a",
   "metadata": {},
   "source": [
    "## Case 4: Power Function\n",
    "\n",
    "Simple mathemathical recursion.\n",
    "\n",
    "The power function is defined as:\n",
    "\n",
    "$$P(x, n) = x^n = x * x^{n-1}$$"
   ]
  },
  {
   "cell_type": "markdown",
   "id": "b27cf965",
   "metadata": {},
   "source": [
    "### Recursive implementation\n"
   ]
  },
  {
   "cell_type": "code",
   "execution_count": 10,
   "id": "eea4c7b4",
   "metadata": {},
   "outputs": [
    {
     "data": {
      "text/plain": [
       "8"
      ]
     },
     "execution_count": 10,
     "metadata": {},
     "output_type": "execute_result"
    }
   ],
   "source": [
    "def power(x, n):\n",
    "    \"\"\"\n",
    "    Calculate x raised to the power of n using recursion.\n",
    "\n",
    "    Parameters:\n",
    "    x (float): The base number.\n",
    "    n (int): The exponent (non-negative integer).\n",
    "\n",
    "    Returns:\n",
    "    float: The result of x raised to the power of n.\n",
    "    \"\"\"\n",
    "    if n == 0:\n",
    "        return 1\n",
    "    else:\n",
    "        return x * power(x, n - 1)\n",
    "\n",
    "power(2, 3)"
   ]
  },
  {
   "cell_type": "markdown",
   "id": "55453107",
   "metadata": {},
   "source": [
    "## Case 5: Reverse a String\n",
    "\n",
    "Text manipulation. \n",
    "\n",
    "The reverse function takes a string as input and returns the reversed string.\n",
    "\n",
    "The reverse of a string can be defined recursively as:\n",
    "\n",
    "$$R(s) = R(s[1:]) + s[0]$$"
   ]
  },
  {
   "cell_type": "markdown",
   "id": "ab7842c3",
   "metadata": {},
   "source": [
    "\n",
    "### Recursive implementation\n"
   ]
  },
  {
   "cell_type": "code",
   "execution_count": 11,
   "id": "380de3ca",
   "metadata": {},
   "outputs": [
    {
     "data": {
      "text/plain": [
       "'olleh'"
      ]
     },
     "execution_count": 11,
     "metadata": {},
     "output_type": "execute_result"
    }
   ],
   "source": [
    "def reversed_string(s):\n",
    "    \"\"\"\n",
    "    Reverse a string using recursion.\n",
    "\n",
    "    Parameters:\n",
    "    s (str): The string to be reversed.\n",
    "\n",
    "    Returns:\n",
    "    str: The reversed string.\n",
    "    \"\"\"\n",
    "    if len(s) == 0:\n",
    "        return \"\"\n",
    "    else:\n",
    "        return reversed_string(s[1:]) + s[0]\n",
    "\n",
    "reversed_string(\"hello\")"
   ]
  },
  {
   "cell_type": "markdown",
   "id": "d4711777",
   "metadata": {},
   "source": [
    "## Case 6: Countdown\n",
    "\n",
    "Visual understanding of recursion.\n",
    "\n",
    "The countdown function takes a positive integer n and prints numbers from n down to 1, followed by \"Blast off!\".\n",
    "\n",
    "The countdown function can be defined recursively as:\n",
    "\n",
    "$$C(n) = \\begin{cases}\n",
    "\\text{\"Blast off!\"} & \\text{if } n = 0 \\\\\n",
    "n + C(n-1) & \\text{if } n > 0\n",
    "\\end{cases}$$\n"
   ]
  },
  {
   "cell_type": "markdown",
   "id": "1d805750",
   "metadata": {},
   "source": [
    "### Recursive implementation"
   ]
  },
  {
   "cell_type": "code",
   "execution_count": 12,
   "id": "f43a5289",
   "metadata": {},
   "outputs": [
    {
     "name": "stdout",
     "output_type": "stream",
     "text": [
      "5\n",
      "4\n",
      "3\n",
      "2\n",
      "1\n",
      "Blastoff!\n"
     ]
    }
   ],
   "source": [
    "def count_down(n):\n",
    "    \"\"\"\n",
    "    Count down from n to 1 using recursion.\n",
    "\n",
    "    Parameters:\n",
    "    n (int): The number to count down from.\n",
    "\n",
    "    Returns:\n",
    "    None\n",
    "    \"\"\"\n",
    "    if n <= 0:\n",
    "        print(\"Blastoff!\")\n",
    "        return\n",
    "    print(n)\n",
    "    count_down(n - 1)\n",
    "\n",
    "count_down(5)"
   ]
  },
  {
   "cell_type": "markdown",
   "id": "0b0ef5fe",
   "metadata": {},
   "source": [
    "## Case 7: Palindrome Checker\n",
    "\n",
    "String comparison with recursion.\n",
    "\n",
    "The palindrome function takes a string as input and returns True if the string is a palindrome, and False otherwise.\n",
    "\n",
    "The palindrome function can be defined recursively as:\n",
    "\n",
    "$$P(s) = \\begin{cases}  \n",
    "\\text{True} & \\text{if } s = \\text{reverse}(s) \\\\\n",
    "\\text{False} & \\text{otherwise}\n",
    "\\end{cases}$$\n"
   ]
  },
  {
   "cell_type": "markdown",
   "id": "3b0fa635",
   "metadata": {},
   "source": [
    "### Recursive implementation"
   ]
  },
  {
   "cell_type": "code",
   "execution_count": 13,
   "id": "198e5ce2",
   "metadata": {},
   "outputs": [
    {
     "name": "stdout",
     "output_type": "stream",
     "text": [
      "True\n",
      "False\n"
     ]
    }
   ],
   "source": [
    "def is_palindrome(s):\n",
    "    \"\"\"\n",
    "    Check if a string is a palindrome using recursion.\n",
    "\n",
    "    Parameters:\n",
    "    s (str): The string to check.\n",
    "\n",
    "    Returns:\n",
    "    bool: True if the string is a palindrome, False otherwise.\n",
    "    \"\"\"\n",
    "    if len(s) <= 1:\n",
    "        return True\n",
    "    return s[0] == s[-1] and is_palindrome(s[1:-1])\n",
    "\n",
    "print(is_palindrome(\"racecar\"))\n",
    "print(is_palindrome(\"hello\"))"
   ]
  },
  {
   "cell_type": "markdown",
   "id": "2674e6de",
   "metadata": {},
   "source": [
    "## Case 8: GCD (Euclidean Algorithm)\n",
    "\n",
    "Classic algorithm for finding the greatest common divisor (GCD) of two numbers.\n",
    "\n",
    "The GCD of two integers a and b is the largest integer that divides both a and b without leaving a remainder. The Euclidean algorithm defines the GCD recursively as:\n",
    "\n",
    "$$GCD(a, b) = \\begin{cases}\n",
    "b & \\text{if } a \\mod b = 0 \\\\\n",
    "GCD(b, a \\mod b) & \\text{otherwise}\n",
    "\\end{cases}$$"
   ]
  },
  {
   "cell_type": "markdown",
   "id": "8a3a3be8",
   "metadata": {},
   "source": [
    "### Recursive implementation"
   ]
  },
  {
   "cell_type": "code",
   "execution_count": 14,
   "id": "aed700d0",
   "metadata": {},
   "outputs": [
    {
     "name": "stdout",
     "output_type": "stream",
     "text": [
      "The GCD of 48 and 18 is: 6\n"
     ]
    }
   ],
   "source": [
    "def gcd(a, b):\n",
    "    \"\"\"\n",
    "    Calculate the greatest common divisor (GCD) of two numbers using recursion.\n",
    "\n",
    "    Parameters:\n",
    "    a (int): First number.\n",
    "    b (int): Second number.\n",
    "\n",
    "    Returns:\n",
    "    int: GCD of a and b.\n",
    "    \"\"\"\n",
    "    if b == 0:\n",
    "        return a\n",
    "    else:\n",
    "        return gcd(b, a % b)\n",
    "\n",
    "print(\"The GCD of 48 and 18 is:\", gcd(48, 18))"
   ]
  },
  {
   "cell_type": "markdown",
   "id": "0962b506",
   "metadata": {},
   "source": [
    "## Case 9: Binary Search\n",
    "\n",
    "Divide and conquer algorithm for searching a sorted array.\n",
    "\n",
    "The binary search function takes a sorted array and a target value as input and returns the index of the target value if found, and -1 otherwise.\n",
    "\n",
    "The binary search function can be defined recursively as:\n",
    "\n",
    "$$BS(arr, target, low, high) = \\begin{cases}\n",
    "-1 & \\text{if } low > high \\\\\n",
    "\\text{mid} & \\text{if } arr[\\text{mid}] = \\text{target} \\\\\n",
    "BS(arr, target, low, \\text{mid} - 1) & \\text{if } arr[\\text{mid}] > \\text{target} \\\\\n",
    "BS(arr, target, \\text{mid} + 1, high) & \\text{if } arr[\\text{mid}] < \\text{target}\n",
    "\\end{cases}$$"
   ]
  },
  {
   "cell_type": "markdown",
   "id": "e7cd558d",
   "metadata": {},
   "source": [
    "### Recursive implementation"
   ]
  },
  {
   "cell_type": "code",
   "execution_count": 15,
   "id": "e1cc8fbd",
   "metadata": {},
   "outputs": [
    {
     "data": {
      "text/plain": [
       "2"
      ]
     },
     "execution_count": 15,
     "metadata": {},
     "output_type": "execute_result"
    }
   ],
   "source": [
    "def  binary_search(arr, target, low, high):\n",
    "    \"\"\"\n",
    "    Perform binary search on a sorted array using recursion.\n",
    "\n",
    "    Parameters:\n",
    "    arr (list): A sorted list of elements to search.\n",
    "    target: The element to search for.\n",
    "    low (int): The lower index of the search range.\n",
    "    high (int): The upper index of the search range.\n",
    "    \n",
    "    Returns:\n",
    "    int: The index of the target element if found, otherwise -1.\n",
    "    \"\"\"\n",
    "    if low > high:\n",
    "        return -1  # target not found\n",
    "    mid = (low + high) // 2\n",
    "    if arr[mid] == target:\n",
    "        return mid\n",
    "    elif arr[mid] < target:\n",
    "        return binary_search(arr, target, mid + 1, high)\n",
    "    else:\n",
    "        return binary_search(arr, target, low, mid - 1)\n",
    "\n",
    "binary_search([1, 2, 3, 4, 5], 3, 0, 4)"
   ]
  },
  {
   "cell_type": "markdown",
   "id": "b5f963c6",
   "metadata": {},
   "source": [
    "## Case 10: Nested Lists Sum\n",
    "\n",
    "Deep data structure traversal. \n",
    "\n",
    "The sum_nested function takes a nested list as input and returns the sum of all numbers in the list.\n",
    "\n",
    "The sum_nested function can be defined recursively as:\n",
    "\n",
    "$$S(data) = \\begin{cases}\n",
    "0 & \\text{if } data = \\text{empty list} \\\\\n",
    "S(data[0]) + S(data[1:]) & \\text{if } data = \\text{list} \\\\\n",
    "data & \\text{if } data = \\text{number}\n",
    "\\end{cases}$$"
   ]
  },
  {
   "cell_type": "markdown",
   "id": "ab9ed8e3",
   "metadata": {},
   "source": [
    "### Recursive implementation"
   ]
  },
  {
   "cell_type": "code",
   "execution_count": 16,
   "id": "9bc9eee4",
   "metadata": {},
   "outputs": [
    {
     "data": {
      "text/plain": [
       "28"
      ]
     },
     "execution_count": 16,
     "metadata": {},
     "output_type": "execute_result"
    }
   ],
   "source": [
    "def nested_list_sum(nested_list):\n",
    "    \"\"\"\n",
    "    Calculate the sum of all numbers in a nested list using recursion.\n",
    "\n",
    "    Parameters:\n",
    "    nested_list (list): A list that may contain integers and/or other lists.\n",
    "\n",
    "    Returns:\n",
    "    int: The sum of all numbers in the nested list.\n",
    "    \"\"\"\n",
    "    total = 0\n",
    "    for element in nested_list:\n",
    "        if isinstance(element, list):\n",
    "            total += nested_list_sum(element)\n",
    "        else:\n",
    "            total += element\n",
    "    return total\n",
    "\n",
    "nested_list_sum([1, [2, 3], [4, [5, 6]], 7])"
   ]
  },
  {
   "cell_type": "markdown",
   "id": "9850acaa",
   "metadata": {},
   "source": [
    "## Recursion vs Iteration - Comparison\n",
    "\n",
    "| Aspect | Recursion | Iteration |\n",
    "|--------|-----------|-----------|\n",
    "| **Code Simplicity** | Often shorter & cleaner | Can be more verbose |\n",
    "| **Readability** | Elegant for tree/graphs | More familiar to many |\n",
    "| **Memory Usage** | Uses call stack (higher) | Uses variables (lower) |\n",
    "| **Performance** | Function call overhead | Generally faster |\n",
    "| **Stack Overflow Risk** | Yes, if too deep | No |\n",
    "| **Natural Fit** | Trees, graphs, divide & conquer, backtracking | Simple loops, counters |\n",
    "\n",
    "### When to Use Recursion\n",
    "\n",
    "✓ Problem naturally divides into smaller similar subproblems  \n",
    "✓ Working with tree or graph structures  \n",
    "✓ Implementing divide-and-conquer algorithms  \n",
    "✓ Backtracking problems (mazes, puzzles)  \n",
    "✓ Mathematical definitions are recursive (factorial, Fibonacci)\n",
    "\n",
    "### When to Use Iteration\n",
    "\n",
    "✓ Simple counting or looping  \n",
    "✓ Performance is critical  \n",
    "✓ Large datasets (avoid stack overflow)  \n",
    "✓ Memory is constrained  \n",
    "✓ Iterative solution is just as clear\n",
    "\n",
    "### Recursion Best Practices\n",
    "\n",
    "1. Always define clear base case(s)\n",
    "2. Ensure recursive case moves toward base case\n",
    "3. Be aware of performance (memoization for optimization)\n",
    "4. Consider tail recursion optimization (not automatic in Python)\n",
    "5. Watch for stack overflow with deep recursion\n",
    "\n",
    "---\n",
    "\n",
    "## Practice Exercises for You\n",
    "\n",
    "Try implementing these functions both recursively and iteratively:\n",
    "\n",
    "### 1. EASY\n",
    "- Find the maximum element in a list\n",
    "- Count the number of digits in a number\n",
    "- Check if a number is even (using only subtraction)\n",
    "\n",
    "### 2. MEDIUM\n",
    "- Tower of Hanoi puzzle\n",
    "- Generate all permutations of a string\n",
    "- Find the nth triangular number (1, 3, 6, 10, 15, ...)\n",
    "\n",
    "### 3. HARD\n",
    "- Merge Sort algorithm\n",
    "- Quick Sort algorithm\n",
    "- Generate all subsets of a set (power set)\n",
    "- Calculate the depth of a nested list\n",
    "\n",
    "### 4. CHALLENGE\n",
    "- Implement JSON parser\n",
    "- Solve N-Queens problem\n",
    "- Directory tree traversal\n",
    "- Expression evaluator with parentheses\n",
    "\n",
    "---\n",
    "\n",
    "## Running the Code Examples\n",
    "\n",
    "To test any of these examples, copy the Python code into a `.py` file and run it with:\n",
    "```bash\n",
    "python your_file.py\n",
    "```\n",
    "\n",
    "Or use them in an interactive Python environment like Jupyter Notebook or Python REPL.\n"
   ]
  },
  {
   "cell_type": "markdown",
   "id": "0096e38d",
   "metadata": {},
   "source": [
    "## Conclusion\n",
    "\n",
    "Throughout this notebook, we've explored **10 different recursive algorithms** ranging from basic mathematical operations to complex data structure manipulations. Here's what we've learned:\n",
    "\n",
    "### Key Takeaways\n",
    "\n",
    "1. **Understanding Recursion**: Every recursive function requires two essential components:\n",
    "   - **Base case(s)**: Stopping condition that prevents infinite recursion\n",
    "   - **Recursive case**: The function calling itself with a simpler/smaller input that moves toward the base case\n",
    "\n",
    "2. **Pattern Recognition**: We've seen common recursive patterns across different problems:\n",
    "   - **Linear recursion**: Factorial, power, countdown (single recursive call)\n",
    "   - **Binary recursion**: Fibonacci, binary search (two or more recursive calls)\n",
    "   - **Deep recursion**: Nested list sum, palindrome checker (recursion on complex structures)\n",
    "\n",
    "3. **Performance Considerations**: \n",
    "   - Factorial: Recursive and iterative have similar performance for small inputs\n",
    "   - Fibonacci: Recursive version has exponential time complexity O(2^n), while iterative is O(n)\n",
    "   - Binary search: Recursive elegance with O(log n) performance\n",
    "   - Space complexity: Recursive solutions use O(n) stack space vs O(1) for most iterative solutions\n",
    "\n",
    "### When Recursion Shines\n",
    "\n",
    "✓ **Mathematical elegance**: Problems with recursive definitions (factorial, GCD, Fibonacci)  \n",
    "✓ **Tree/Graph structures**: Natural fit for hierarchical data  \n",
    "✓ **Divide and conquer**: Binary search, merge sort, quick sort  \n",
    "✓ **Backtracking**: Puzzles, permutations, combinations  \n",
    "✓ **Code simplicity**: Often shorter and more readable than iterative counterparts\n",
    "\n",
    "### When to Choose Iteration\n",
    "\n",
    "✓ **Performance critical**: Lower overhead, no stack overflow risk  \n",
    "✓ **Large datasets**: Avoid stack limitations  \n",
    "✓ **Simple loops**: Counter-based operations  \n",
    "✓ **Memory constraints**: O(1) space complexity  \n",
    "✓ **Production systems**: More predictable resource usage\n",
    "\n",
    "### Practical Wisdom\n",
    "\n",
    "- **Start with recursion** when the problem has a natural recursive structure\n",
    "- **Optimize with iteration** when performance testing reveals bottlenecks\n",
    "- **Consider memoization** to optimize recursive solutions (dynamic programming)\n",
    "- **Watch for stack depth** in Python (default recursion limit is ~1000)\n",
    "- **Test edge cases** thoroughly: empty inputs, single elements, negative values\n",
    "\n",
    "### Real-World Applications\n",
    "\n",
    "The recursive techniques we've practiced appear in:\n",
    "- **File system traversal**: Navigating directory trees\n",
    "- **JSON/XML parsing**: Handling nested data structures\n",
    "- **Computer graphics**: Fractal generation, ray tracing\n",
    "- **Game AI**: Minimax algorithm, decision trees\n",
    "- **Compiler design**: Parsing expressions, syntax trees\n",
    "- **Algorithm design**: Quick sort, merge sort, divide and conquer\n",
    "\n",
    "### Next Steps\n",
    "\n",
    "Continue practicing with the suggested exercises, focusing on:\n",
    "1. Implementing both recursive and iterative solutions\n",
    "2. Analyzing time and space complexity\n",
    "3. Identifying base cases and recursive patterns\n",
    "4. Testing with edge cases and large inputs\n",
    "5. Optimizing recursive solutions with memoization techniques\n",
    "\n",
    "Remember: **Recursion is a powerful tool**, but like any tool, it should be used when appropriate. Master both recursive and iterative approaches to become a more versatile programmer! 🚀\n"
   ]
  }
 ],
 "metadata": {
  "kernelspec": {
   "display_name": "base",
   "language": "python",
   "name": "python3"
  },
  "language_info": {
   "codemirror_mode": {
    "name": "ipython",
    "version": 3
   },
   "file_extension": ".py",
   "mimetype": "text/x-python",
   "name": "python",
   "nbconvert_exporter": "python",
   "pygments_lexer": "ipython3",
   "version": "3.13.7"
  }
 },
 "nbformat": 4,
 "nbformat_minor": 5
}
